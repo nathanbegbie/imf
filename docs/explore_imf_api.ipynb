{
 "cells": [
  {
   "cell_type": "markdown",
   "metadata": {},
   "source": [
    "# Explore the IMF API\n",
    "This notebook attempts to dociument my exploration of the API and hopefully help with documenting decisions about the API.\n",
    "\n",
    "We are going to use [this documentation](http://datahelp.imf.org/knowledgebase/articles/667681-using-json-restful-web-service) from the IMF to explore the db."
   ]
  },
  {
   "cell_type": "code",
   "execution_count": 19,
   "metadata": {},
   "outputs": [],
   "source": [
    "import requests\n",
    "import random\n",
    "from pprint import pprint\n",
    "IMF_BASE_API = \"http://dataservices.imf.org/REST/SDMX_JSON.svc\""
   ]
  },
  {
   "cell_type": "code",
   "execution_count": 8,
   "metadata": {},
   "outputs": [],
   "source": [
    "def get_data(url):\n",
    "    response = requests.get(url)\n",
    "    response.raise_for_status()\n",
    "    return response.json()"
   ]
  },
  {
   "cell_type": "code",
   "execution_count": 12,
   "metadata": {},
   "outputs": [
    {
     "name": "stdout",
     "output_type": "stream",
     "text": [
      "{'Structure': {...}}\n",
      "\n",
      "{'Structure': {'@xmlns': 'http://www.SDMX.org/resources/SDMXML/schemas/v2_0/message',\n",
      "               '@xmlns:xsd': 'http://www.w3.org/2001/XMLSchema',\n",
      "               '@xmlns:xsi': 'http://www.w3.org/2001/XMLSchema-instance',\n",
      "               '@xsi:schemaLocation': 'http://www.SDMX.org/resources/SDMXML/schemas/v2_0/message '\n",
      "                                      'https://registry.sdmx.org/schemas/v2_0/SDMXMessage.xsd',\n",
      "               'Dataflows': {...},\n",
      "               'Header': {...}}}\n"
     ]
    }
   ],
   "source": [
    "dataflow_data = get_data(f\"{IMF_BASE_API}/Dataflow\") # TODO: maybe use the python path lib for urls?\n",
    "pprint(dataflow_data, depth=1)\n",
    "print()\n",
    "pprint(dataflow_data, depth=2)"
   ]
  },
  {
   "cell_type": "markdown",
   "metadata": {},
   "source": [
    "Let's explore the `Header` and `DataFlows`"
   ]
  },
  {
   "cell_type": "code",
   "execution_count": 15,
   "metadata": {},
   "outputs": [
    {
     "name": "stdout",
     "output_type": "stream",
     "text": [
      "{'ID': 'abf18cb4-4736-4e0c-bb57-a9a48447e4f7',\n",
      " 'Prepared': '2020-05-26T07:49:33',\n",
      " 'Receiver': {'@id': 'ZZZ'},\n",
      " 'Sender': {'@id': '1C0',\n",
      "            'Contact': {'Telephone': '+ 1 (202) 623-6220',\n",
      "                        'URI': 'http://www.imf.org'},\n",
      "            'Name': {'#text': 'IMF', '@xml:lang': 'en'}},\n",
      " 'Test': 'false'}\n"
     ]
    }
   ],
   "source": [
    "pprint(dataflow_data[\"Structure\"][\"Header\"], depth=3)"
   ]
  },
  {
   "cell_type": "markdown",
   "metadata": {},
   "source": [
    "`Header` Just gives us some metadata"
   ]
  },
  {
   "cell_type": "code",
   "execution_count": 17,
   "metadata": {},
   "outputs": [
    {
     "name": "stdout",
     "output_type": "stream",
     "text": [
      "{'Dataflow': [{...},\n",
      "              {...},\n",
      "              {...},\n",
      "              {...},\n",
      "              {...},\n",
      "              {...},\n",
      "              {...},\n",
      "              {...},\n",
      "              {...},\n",
      "              {...},\n",
      "              {...},\n",
      "              {...},\n",
      "              {...},\n",
      "              {...},\n",
      "              {...},\n",
      "              {...},\n",
      "              {...},\n",
      "              {...},\n",
      "              {...},\n",
      "              {...},\n",
      "              {...},\n",
      "              {...},\n",
      "              {...},\n",
      "              {...},\n",
      "              {...},\n",
      "              {...},\n",
      "              {...},\n",
      "              {...},\n",
      "              {...},\n",
      "              {...},\n",
      "              {...},\n",
      "              {...},\n",
      "              {...},\n",
      "              {...},\n",
      "              {...},\n",
      "              {...},\n",
      "              {...},\n",
      "              {...},\n",
      "              {...},\n",
      "              {...},\n",
      "              {...},\n",
      "              {...},\n",
      "              {...},\n",
      "              {...},\n",
      "              {...},\n",
      "              {...},\n",
      "              {...},\n",
      "              {...},\n",
      "              {...},\n",
      "              {...},\n",
      "              {...},\n",
      "              {...},\n",
      "              {...},\n",
      "              {...},\n",
      "              {...},\n",
      "              {...},\n",
      "              {...},\n",
      "              {...},\n",
      "              {...},\n",
      "              {...},\n",
      "              {...},\n",
      "              {...},\n",
      "              {...},\n",
      "              {...},\n",
      "              {...},\n",
      "              {...},\n",
      "              {...},\n",
      "              {...},\n",
      "              {...},\n",
      "              {...},\n",
      "              {...},\n",
      "              {...},\n",
      "              {...},\n",
      "              {...},\n",
      "              {...},\n",
      "              {...},\n",
      "              {...},\n",
      "              {...},\n",
      "              {...},\n",
      "              {...},\n",
      "              {...},\n",
      "              {...},\n",
      "              {...},\n",
      "              {...},\n",
      "              {...},\n",
      "              {...},\n",
      "              {...},\n",
      "              {...},\n",
      "              {...},\n",
      "              {...},\n",
      "              {...},\n",
      "              {...},\n",
      "              {...},\n",
      "              {...},\n",
      "              {...},\n",
      "              {...},\n",
      "              {...},\n",
      "              {...},\n",
      "              {...},\n",
      "              {...},\n",
      "              {...},\n",
      "              {...},\n",
      "              {...},\n",
      "              {...},\n",
      "              {...},\n",
      "              {...},\n",
      "              {...},\n",
      "              {...},\n",
      "              {...},\n",
      "              {...},\n",
      "              {...},\n",
      "              {...},\n",
      "              {...},\n",
      "              {...},\n",
      "              {...},\n",
      "              {...},\n",
      "              {...},\n",
      "              {...},\n",
      "              {...},\n",
      "              {...},\n",
      "              {...},\n",
      "              {...},\n",
      "              {...},\n",
      "              {...},\n",
      "              {...},\n",
      "              {...},\n",
      "              {...},\n",
      "              {...},\n",
      "              {...},\n",
      "              {...},\n",
      "              {...},\n",
      "              {...},\n",
      "              {...},\n",
      "              {...},\n",
      "              {...},\n",
      "              {...},\n",
      "              {...},\n",
      "              {...},\n",
      "              {...},\n",
      "              {...},\n",
      "              {...},\n",
      "              {...},\n",
      "              {...},\n",
      "              {...},\n",
      "              {...},\n",
      "              {...},\n",
      "              {...},\n",
      "              {...},\n",
      "              {...},\n",
      "              {...},\n",
      "              {...},\n",
      "              {...},\n",
      "              {...},\n",
      "              {...},\n",
      "              {...},\n",
      "              {...},\n",
      "              {...},\n",
      "              {...},\n",
      "              {...},\n",
      "              {...},\n",
      "              {...},\n",
      "              {...},\n",
      "              {...},\n",
      "              {...},\n",
      "              {...},\n",
      "              {...},\n",
      "              {...},\n",
      "              {...},\n",
      "              {...},\n",
      "              {...},\n",
      "              {...},\n",
      "              {...},\n",
      "              {...},\n",
      "              {...},\n",
      "              {...},\n",
      "              {...},\n",
      "              {...},\n",
      "              {...},\n",
      "              {...},\n",
      "              {...},\n",
      "              {...},\n",
      "              {...},\n",
      "              {...},\n",
      "              {...},\n",
      "              {...},\n",
      "              {...},\n",
      "              {...},\n",
      "              {...},\n",
      "              {...},\n",
      "              {...},\n",
      "              {...},\n",
      "              {...},\n",
      "              {...},\n",
      "              {...},\n",
      "              {...},\n",
      "              {...},\n",
      "              {...},\n",
      "              {...},\n",
      "              {...},\n",
      "              {...},\n",
      "              {...},\n",
      "              {...},\n",
      "              {...},\n",
      "              {...},\n",
      "              {...},\n",
      "              {...},\n",
      "              {...},\n",
      "              {...},\n",
      "              {...},\n",
      "              {...},\n",
      "              {...},\n",
      "              {...},\n",
      "              {...},\n",
      "              {...},\n",
      "              {...},\n",
      "              {...},\n",
      "              {...},\n",
      "              {...},\n",
      "              {...},\n",
      "              {...},\n",
      "              {...},\n",
      "              {...},\n",
      "              {...},\n",
      "              {...},\n",
      "              {...},\n",
      "              {...},\n",
      "              {...},\n",
      "              {...},\n",
      "              {...},\n",
      "              {...}]}\n"
     ]
    }
   ],
   "source": [
    "pprint(dataflow_data[\"Structure\"][\"Dataflows\"], depth=2)"
   ]
  },
  {
   "cell_type": "markdown",
   "metadata": {},
   "source": [
    "Let's have a look at the dimensions of the data"
   ]
  },
  {
   "cell_type": "code",
   "execution_count": 20,
   "metadata": {},
   "outputs": [
    {
     "name": "stdout",
     "output_type": "stream",
     "text": [
      "230\n"
     ]
    }
   ],
   "source": [
    "list_of_dataflows = dataflow_data[\"Structure\"][\"Dataflows\"][\"Dataflow\"]\n",
    "print(len(list_of_dataflows))"
   ]
  },
  {
   "cell_type": "markdown",
   "metadata": {},
   "source": [
    "Now let's see if the blobs in this list, which we can reasonably conclude are dataflows, have a similar structure."
   ]
  },
  {
   "cell_type": "code",
   "execution_count": 30,
   "metadata": {},
   "outputs": [
    {
     "name": "stdout",
     "output_type": "stream",
     "text": [
      "dict_keys(['@id', '@version', '@agencyID', '@isFinal', '@xmlns', 'Name', 'KeyFamilyRef'])\n",
      "dict_keys(['@id', '@version', '@agencyID', '@isFinal', '@xmlns', 'Name', 'KeyFamilyRef'])\n",
      "dict_keys(['@id', '@version', '@agencyID', '@isFinal', '@xmlns', 'Name', 'KeyFamilyRef'])\n"
     ]
    }
   ],
   "source": [
    "for i in range(3):\n",
    "    random_int = random.randrange(len(list_of_dataflows))\n",
    "    print(list_of_dataflows[random_int].keys())"
   ]
  },
  {
   "cell_type": "markdown",
   "metadata": {},
   "source": [
    "We can reasonably conclude that the data are the same initial s"
   ]
  }
 ],
 "metadata": {
  "kernelspec": {
   "display_name": "Python 3",
   "language": "python",
   "name": "python3"
  },
  "language_info": {
   "codemirror_mode": {
    "name": "ipython",
    "version": 3
   },
   "file_extension": ".py",
   "mimetype": "text/x-python",
   "name": "python",
   "nbconvert_exporter": "python",
   "pygments_lexer": "ipython3",
   "version": "3.7.4"
  }
 },
 "nbformat": 4,
 "nbformat_minor": 4
}
